{
  "nbformat": 4,
  "nbformat_minor": 0,
  "metadata": {
    "orig_nbformat": 2,
    "file_extension": ".py",
    "mimetype": "text/x-python",
    "name": "python",
    "npconvert_exporter": "python",
    "pygments_lexer": "ipython3",
    "version": 3,
    "colab": {
      "name": "MNISTStarter.ipynb",
      "provenance": []
    },
    "kernelspec": {
      "name": "python3",
      "display_name": "Python 3"
    }
  },
  "cells": [
    {
      "cell_type": "code",
      "metadata": {
        "id": "NoM5bo7wBuqn",
        "colab_type": "code",
        "colab": {}
      },
      "source": [
        "try:\n",
        "    # %tensorflow_version only exists in Colab.\n",
        "    %tensorflow_version 2.x\n",
        "except Exception:\n",
        "    pass\n",
        "\n",
        "import tensorflow as tf\n",
        "from google.colab import files"
      ],
      "execution_count": 0,
      "outputs": []
    },
    {
      "cell_type": "code",
      "metadata": {
        "id": "JOU0vXTVBuqy",
        "colab_type": "code",
        "colab": {}
      },
      "source": [
        "def train():\n",
        "    print(\"--Get data--\")\n",
        "    mnist = tf.keras.datasets.mnist\n",
        "    (x_train, y_train), (x_test, y_test) = mnist.load_data()\n",
        "\n",
        "    print(\"--Process data--\")\n",
        "    x_train, x_test = x_train / 255.0, x_test / 255.0\n",
        "\n",
        "    print(\"--Make model--\")\n",
        "    model = tf.keras.models.Sequential([\n",
        "        tf.keras.layers.Flatten(input_shape=(28, 28)),\n",
        "        tf.keras.layers.Dense(512, activation='relu'),\n",
        "        tf.keras.layers.Dropout(0.2),\n",
        "        tf.keras.layers.Dense(10, activation='softmax')\n",
        "    ])\n",
        "    model.compile(optimizer='adam',\n",
        "                  loss='sparse_categorical_crossentropy', metrics=['accuracy'])\n",
        "\n",
        "    print(\"--Fit model--\")\n",
        "    model.fit(x_train, y_train, epochs=10, verbose=2)\n",
        "\n",
        "    print(\"--Evaluate model--\")\n",
        "    model_loss, model_acc = model.evaluate(x_test,  y_test, verbose=2)\n",
        "    print(f\"Model Loss:    {model_loss:.2f}\")\n",
        "    print(f\"Model Accuray: {model_acc*100:.1f}%\")\n",
        "\n",
        "    return model\n"
      ],
      "execution_count": 0,
      "outputs": []
    },
    {
      "cell_type": "code",
      "metadata": {
        "id": "XGol0Q6WBuq3",
        "colab_type": "code",
        "colab": {}
      },
      "source": [
        "def main():\n",
        "    model = train()\n",
        "    model.save('MNIST.h5')\n",
        "    files.download('MNIST.h5')\n",
        "\n",
        "main()"
      ],
      "execution_count": 0,
      "outputs": []
    }
  ]
}